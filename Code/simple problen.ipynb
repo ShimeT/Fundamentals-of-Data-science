{
 "cells": [
  {
   "cell_type": "code",
   "execution_count": 5,
   "id": "f95d0200-ae99-4ca3-be20-a9deef4d3213",
   "metadata": {},
   "outputs": [
    {
     "name": "stdout",
     "output_type": "stream",
     "text": [
      "house_sizes [1400 1600 1700 1875 1100 1550 2350 2450 1425 1700]\n",
      "house_prices [245000 312000 279000 308000 199000 219000 405000 324000 319000 255000]\n"
     ]
    }
   ],
   "source": [
    "import numpy as np\n",
    "from sklearn.linear_model import LinearRegression\n",
    "\n",
    "# Example data\n",
    "house_sizes = np.array([1400, 1600, 1700, 1875, 1100, 1550, 2350, 2450, 1425, 1700])\n",
    "house_prices = np.array([245000, 312000, 279000, 308000, 199000, 219000, 405000, 324000, 319000, 255000])\n",
    "\n",
    "\n",
    "# print('house_prices',house_prices) \n",
    "# # Reshape data\n",
    "# X = house_sizes.reshape(-1, 1)\n",
    "# #X = house_sizes\n",
    "# # Train linear regression model\n",
    "# model = LinearRegression()\n",
    "# model.fit(X, house_prices)\n",
    "\n",
    "\n",
    "# # Predict price for a new house size\n",
    "# new_size = np.array([[2000]])\n",
    "# predicted_price = model.predict(new_size)\n",
    "# print(f'Predicted price for a house of 2000 sq. ft.: ${predicted_price[0]:,.2f}')"
   ]
  },
  {
   "cell_type": "code",
   "execution_count": 6,
   "id": "3a0e508d-4d58-4f52-8fc2-740e265bac29",
   "metadata": {},
   "outputs": [
    {
     "name": "stdout",
     "output_type": "stream",
     "text": [
      "house_sizes [1400 1600 1700 1875 1100 1550 2350 2450 1425 1700]\n"
     ]
    }
   ],
   "source": [
    "print('house_sizes',house_sizes)"
   ]
  },
  {
   "cell_type": "code",
   "execution_count": 9,
   "id": "d0468638-3df5-4ce0-9126-e97fc254e202",
   "metadata": {},
   "outputs": [],
   "source": [
    "X = house_sizes.reshape(-1, 1) # independent variable / feature \n",
    "Y=house_prices # dependent variable  needes to be pridicted  / label\n"
   ]
  },
  {
   "cell_type": "code",
   "execution_count": 13,
   "id": "24934b3e-0707-4a97-a11d-f6b09734453e",
   "metadata": {},
   "outputs": [],
   "source": [
    "Prediction_model = LinearRegression() # select the  model or initialize the model\n"
   ]
  },
  {
   "cell_type": "code",
   "execution_count": 14,
   "id": "f4243bbe-2ee7-4eda-a468-8900930aa49f",
   "metadata": {},
   "outputs": [
    {
     "data": {
      "text/html": [
       "<style>#sk-container-id-5 {color: black;}#sk-container-id-5 pre{padding: 0;}#sk-container-id-5 div.sk-toggleable {background-color: white;}#sk-container-id-5 label.sk-toggleable__label {cursor: pointer;display: block;width: 100%;margin-bottom: 0;padding: 0.3em;box-sizing: border-box;text-align: center;}#sk-container-id-5 label.sk-toggleable__label-arrow:before {content: \"▸\";float: left;margin-right: 0.25em;color: #696969;}#sk-container-id-5 label.sk-toggleable__label-arrow:hover:before {color: black;}#sk-container-id-5 div.sk-estimator:hover label.sk-toggleable__label-arrow:before {color: black;}#sk-container-id-5 div.sk-toggleable__content {max-height: 0;max-width: 0;overflow: hidden;text-align: left;background-color: #f0f8ff;}#sk-container-id-5 div.sk-toggleable__content pre {margin: 0.2em;color: black;border-radius: 0.25em;background-color: #f0f8ff;}#sk-container-id-5 input.sk-toggleable__control:checked~div.sk-toggleable__content {max-height: 200px;max-width: 100%;overflow: auto;}#sk-container-id-5 input.sk-toggleable__control:checked~label.sk-toggleable__label-arrow:before {content: \"▾\";}#sk-container-id-5 div.sk-estimator input.sk-toggleable__control:checked~label.sk-toggleable__label {background-color: #d4ebff;}#sk-container-id-5 div.sk-label input.sk-toggleable__control:checked~label.sk-toggleable__label {background-color: #d4ebff;}#sk-container-id-5 input.sk-hidden--visually {border: 0;clip: rect(1px 1px 1px 1px);clip: rect(1px, 1px, 1px, 1px);height: 1px;margin: -1px;overflow: hidden;padding: 0;position: absolute;width: 1px;}#sk-container-id-5 div.sk-estimator {font-family: monospace;background-color: #f0f8ff;border: 1px dotted black;border-radius: 0.25em;box-sizing: border-box;margin-bottom: 0.5em;}#sk-container-id-5 div.sk-estimator:hover {background-color: #d4ebff;}#sk-container-id-5 div.sk-parallel-item::after {content: \"\";width: 100%;border-bottom: 1px solid gray;flex-grow: 1;}#sk-container-id-5 div.sk-label:hover label.sk-toggleable__label {background-color: #d4ebff;}#sk-container-id-5 div.sk-serial::before {content: \"\";position: absolute;border-left: 1px solid gray;box-sizing: border-box;top: 0;bottom: 0;left: 50%;z-index: 0;}#sk-container-id-5 div.sk-serial {display: flex;flex-direction: column;align-items: center;background-color: white;padding-right: 0.2em;padding-left: 0.2em;position: relative;}#sk-container-id-5 div.sk-item {position: relative;z-index: 1;}#sk-container-id-5 div.sk-parallel {display: flex;align-items: stretch;justify-content: center;background-color: white;position: relative;}#sk-container-id-5 div.sk-item::before, #sk-container-id-5 div.sk-parallel-item::before {content: \"\";position: absolute;border-left: 1px solid gray;box-sizing: border-box;top: 0;bottom: 0;left: 50%;z-index: -1;}#sk-container-id-5 div.sk-parallel-item {display: flex;flex-direction: column;z-index: 1;position: relative;background-color: white;}#sk-container-id-5 div.sk-parallel-item:first-child::after {align-self: flex-end;width: 50%;}#sk-container-id-5 div.sk-parallel-item:last-child::after {align-self: flex-start;width: 50%;}#sk-container-id-5 div.sk-parallel-item:only-child::after {width: 0;}#sk-container-id-5 div.sk-dashed-wrapped {border: 1px dashed gray;margin: 0 0.4em 0.5em 0.4em;box-sizing: border-box;padding-bottom: 0.4em;background-color: white;}#sk-container-id-5 div.sk-label label {font-family: monospace;font-weight: bold;display: inline-block;line-height: 1.2em;}#sk-container-id-5 div.sk-label-container {text-align: center;}#sk-container-id-5 div.sk-container {/* jupyter's `normalize.less` sets `[hidden] { display: none; }` but bootstrap.min.css set `[hidden] { display: none !important; }` so we also need the `!important` here to be able to override the default hidden behavior on the sphinx rendered scikit-learn.org. See: https://github.com/scikit-learn/scikit-learn/issues/21755 */display: inline-block !important;position: relative;}#sk-container-id-5 div.sk-text-repr-fallback {display: none;}</style><div id=\"sk-container-id-5\" class=\"sk-top-container\"><div class=\"sk-text-repr-fallback\"><pre>LinearRegression()</pre><b>In a Jupyter environment, please rerun this cell to show the HTML representation or trust the notebook. <br />On GitHub, the HTML representation is unable to render, please try loading this page with nbviewer.org.</b></div><div class=\"sk-container\" hidden><div class=\"sk-item\"><div class=\"sk-estimator sk-toggleable\"><input class=\"sk-toggleable__control sk-hidden--visually\" id=\"sk-estimator-id-5\" type=\"checkbox\" checked><label for=\"sk-estimator-id-5\" class=\"sk-toggleable__label sk-toggleable__label-arrow\">LinearRegression</label><div class=\"sk-toggleable__content\"><pre>LinearRegression()</pre></div></div></div></div></div>"
      ],
      "text/plain": [
       "LinearRegression()"
      ]
     },
     "execution_count": 14,
     "metadata": {},
     "output_type": "execute_result"
    }
   ],
   "source": [
    "# machine learning  now we fit the algorithm with features and label \n",
    "# training the model \n",
    "Prediction_model.fit(X, Y)"
   ]
  },
  {
   "cell_type": "code",
   "execution_count": 15,
   "id": "5c1e07a0-f1ab-42fc-a2ca-820c23eb36ed",
   "metadata": {},
   "outputs": [],
   "source": [
    "new_size = np.array([[2000]])\n",
    "predicted_price = Prediction_model.predict(new_size)\n"
   ]
  },
  {
   "cell_type": "code",
   "execution_count": 16,
   "id": "fcc50970-774c-4767-a59a-be3d4e0b9ced",
   "metadata": {},
   "outputs": [
    {
     "name": "stdout",
     "output_type": "stream",
     "text": [
      "the price of this new size house [[2000]] is [317783.80528158]\n"
     ]
    }
   ],
   "source": [
    "print(f'the price of this new size house {new_size} is {predicted_price}') "
   ]
  },
  {
   "cell_type": "code",
   "execution_count": 17,
   "id": "e8a6ec74-9d6d-4627-bd5c-424063a9339f",
   "metadata": {},
   "outputs": [
    {
     "data": {
      "text/plain": [
       "array([976390.23226217])"
      ]
     },
     "execution_count": 17,
     "metadata": {},
     "output_type": "execute_result"
    }
   ],
   "source": [
    "othersize=np.array([[8000]])\n",
    "newprice=Prediction_model.predict(othersize)\n",
    "newprice"
   ]
  },
  {
   "cell_type": "code",
   "execution_count": null,
   "id": "5d219c50-1d30-4b3e-a67a-5836b6d60034",
   "metadata": {},
   "outputs": [],
   "source": []
  }
 ],
 "metadata": {
  "kernelspec": {
   "display_name": "Python 3 (ipykernel)",
   "language": "python",
   "name": "python3"
  },
  "language_info": {
   "codemirror_mode": {
    "name": "ipython",
    "version": 3
   },
   "file_extension": ".py",
   "mimetype": "text/x-python",
   "name": "python",
   "nbconvert_exporter": "python",
   "pygments_lexer": "ipython3",
   "version": "3.8.10"
  }
 },
 "nbformat": 4,
 "nbformat_minor": 5
}
